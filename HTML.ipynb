{
 "cells": [
  {
   "cell_type": "code",
   "execution_count": 1,
   "id": "6bca3ee5-6cb1-4b75-9b89-d730c355cec8",
   "metadata": {},
   "outputs": [],
   "source": [
    "from bs4 import BeautifulSoup"
   ]
  },
  {
   "cell_type": "code",
   "execution_count": 9,
   "id": "b58f03a7-6092-49c0-bbc6-c9d45e3c5cee",
   "metadata": {},
   "outputs": [
    {
     "name": "stdout",
     "output_type": "stream",
     "text": [
      "Python for beginners\n",
      "Python Web Development\n",
      "Python Machine Learning\n"
     ]
    }
   ],
   "source": [
    "with open('home.html','r') as html_file:\n",
    "    content = html_file.read()\n",
    "\n",
    "    soup = BeautifulSoup(content, 'lxml')\n",
    "    courses_html_tags = soup.find_all('h5')\n",
    "    for course in courses_html_tags:\n",
    "        print(course.text)"
   ]
  },
  {
   "cell_type": "code",
   "execution_count": 27,
   "id": "3f2c7a7e-274d-4e9c-980e-d3a4679fb0f6",
   "metadata": {},
   "outputs": [
    {
     "name": "stdout",
     "output_type": "stream",
     "text": [
      "Python for beginners costs 20$\n",
      "Python Web Development costs 50$\n",
      "Python Machine Learning costs 100$\n"
     ]
    }
   ],
   "source": [
    "    course_cards = soup.find_all('div', class_= 'card')\n",
    "    for price in course_cards:\n",
    "        course_name = price.h5.text\n",
    "        course_price = price.a.text.split()[-1]\n",
    "        print(f'{course_name} costs {course_price}')"
   ]
  },
  {
   "cell_type": "code",
   "execution_count": null,
   "id": "482023f0-f8ae-4032-b6ea-a8a29f91c8f4",
   "metadata": {},
   "outputs": [],
   "source": []
  }
 ],
 "metadata": {
  "kernelspec": {
   "display_name": "Python 3 (ipykernel)",
   "language": "python",
   "name": "python3"
  },
  "language_info": {
   "codemirror_mode": {
    "name": "ipython",
    "version": 3
   },
   "file_extension": ".py",
   "mimetype": "text/x-python",
   "name": "python",
   "nbconvert_exporter": "python",
   "pygments_lexer": "ipython3",
   "version": "3.8.8"
  }
 },
 "nbformat": 4,
 "nbformat_minor": 5
}
