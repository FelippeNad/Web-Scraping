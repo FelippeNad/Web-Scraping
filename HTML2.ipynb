{
 "cells": [
  {
   "cell_type": "code",
   "execution_count": null,
   "id": "5948fd6c-5508-4600-9079-14abe74c6b5a",
   "metadata": {},
   "outputs": [
    {
     "name": "stdout",
     "output_type": "stream",
     "text": [
      "Put some skill that you are not familiar with\n"
     ]
    },
    {
     "name": "stdin",
     "output_type": "stream",
     "text": [
      "> django\n"
     ]
    },
    {
     "name": "stdout",
     "output_type": "stream",
     "text": [
      "Filtering out django\n",
      "File saved:1\n",
      "File saved:20\n",
      "File saved:24\n",
      "Waiting 10 minutes...\n",
      "File saved:1\n",
      "File saved:20\n",
      "File saved:23\n",
      "File saved:24\n",
      "Waiting 10 minutes...\n",
      "File saved:1\n",
      "File saved:22\n",
      "File saved:23\n",
      "File saved:24\n",
      "Waiting 10 minutes...\n"
     ]
    }
   ],
   "source": [
    "from bs4 import BeautifulSoup\n",
    "import requests\n",
    "import time\n",
    "\n",
    "print('Put some skill that you are not familiar with')\n",
    "unfarmiliar_skill = input('>')\n",
    "print(f'Filtering out {unfarmiliar_skill}')\n",
    "\n",
    "def find_jobs():\n",
    "    html_text = requests.get('https://www.timesjobs.com/candidate/job-search.html?searchType=personalizedSearch&from=submit&searchTextSrc=ft&searchTextText=&txtKeywords=python&txtLocation=').text\n",
    "    soup = BeautifulSoup(html_text, 'lxml')\n",
    "    jobs = soup.find_all('li', class_ ='clearfix job-bx wht-shd-bx')\n",
    "    for index,job in enumerate(jobs):\n",
    "        published_date = job.find('span', class_= 'sim-posted').span.text\n",
    "        if 'few' in published_date:\n",
    "            company_name = job.find('h3', class_= 'joblist-comp-name').text.replace(' ','')\n",
    "            skills = job.find('span', class_= 'srp-skills').text.replace(' ','')\n",
    "            more_info = job.header.h2.a['href']\n",
    "            if unfarmiliar_skill not in skills:\n",
    "                with open(f'Posts/{index}.txt', 'w') as f:\n",
    "                    f.write(f'Company Name:{company_name.strip()}')\n",
    "                    f.write(f'Required Skills: {skills.strip()}')\n",
    "                    f.write(f'More Info: {more_info}')\n",
    "                print(f'File saved:{index}')\n",
    "\n",
    "    \n",
    "if __name__ == '__main__':\n",
    "    while True:\n",
    "        find_jobs()\n",
    "        time_wait = 10\n",
    "        print(f'Waiting {time_wait} minutes...')\n",
    "        time.sleep(time_wait *60)"
   ]
  },
  {
   "cell_type": "code",
   "execution_count": null,
   "id": "b19ca8bb-a6d9-45fb-a25d-117171423680",
   "metadata": {},
   "outputs": [],
   "source": []
  }
 ],
 "metadata": {
  "kernelspec": {
   "display_name": "Python 3 (ipykernel)",
   "language": "python",
   "name": "python3"
  },
  "language_info": {
   "codemirror_mode": {
    "name": "ipython",
    "version": 3
   },
   "file_extension": ".py",
   "mimetype": "text/x-python",
   "name": "python",
   "nbconvert_exporter": "python",
   "pygments_lexer": "ipython3",
   "version": "3.8.8"
  }
 },
 "nbformat": 4,
 "nbformat_minor": 5
}
